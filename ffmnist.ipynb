{
  "nbformat": 4,
  "nbformat_minor": 0,
  "metadata": {
    "colab": {
      "name": "ffmnist.ipynb",
      "provenance": [],
      "collapsed_sections": [],
      "authorship_tag": "ABX9TyMheomnyjCmFQSl2yx6SJBx",
      "include_colab_link": true
    },
    "kernelspec": {
      "name": "python3",
      "display_name": "Python 3"
    }
  },
  "cells": [
    {
      "cell_type": "markdown",
      "metadata": {
        "id": "view-in-github",
        "colab_type": "text"
      },
      "source": [
        "<a href=\"https://colab.research.google.com/github/RyanElliott10/keras-examples/blob/master/ffmnist.ipynb\" target=\"_parent\"><img src=\"https://colab.research.google.com/assets/colab-badge.svg\" alt=\"Open In Colab\"/></a>"
      ]
    },
    {
      "cell_type": "code",
      "metadata": {
        "id": "lpAPrEcbFOcI",
        "colab_type": "code",
        "colab": {}
      },
      "source": [
        "import tensorflow as tf\n",
        "from tensorflow.keras.models import Sequential\n",
        "from tensorflow.keras.layers import Dense, Dropout\n",
        "from tensorflow.keras.optimizers import Adam\n",
        "from keras.datasets import mnist\n",
        "from keras.utils import to_categorical\n",
        "import numpy as np"
      ],
      "execution_count": 0,
      "outputs": []
    },
    {
      "cell_type": "code",
      "metadata": {
        "id": "_a7qLrw7GBp3",
        "colab_type": "code",
        "colab": {}
      },
      "source": [
        "def reshape_to_ff(data):\n",
        "  return np.reshape(data, (data.shape[0], data.shape[1]*data.shape[2]))"
      ],
      "execution_count": 0,
      "outputs": []
    },
    {
      "cell_type": "code",
      "metadata": {
        "id": "oNR4XKv5HHvv",
        "colab_type": "code",
        "colab": {}
      },
      "source": [
        "INPUT_SHAPE = (784,)\n",
        "NUM_CLASSES = 10"
      ],
      "execution_count": 0,
      "outputs": []
    },
    {
      "cell_type": "code",
      "metadata": {
        "id": "vtYyM5q2Fnd9",
        "colab_type": "code",
        "colab": {}
      },
      "source": [
        "(x_train, y_train), (x_test, y_test) = mnist.load_data()\n",
        "\n",
        "x_train = reshape_to_ff(x_train)\n",
        "x_test = reshape_to_ff(x_test)\n",
        "y_train = to_categorical(y_train)\n",
        "y_test = to_categorical(y_test)"
      ],
      "execution_count": 0,
      "outputs": []
    },
    {
      "cell_type": "code",
      "metadata": {
        "id": "dpsjUK-rGXy-",
        "colab_type": "code",
        "colab": {}
      },
      "source": [
        "model = Sequential()\n",
        "model.add(Dense(128, activation='relu', input_shape=INPUT_SHAPE))\n",
        "model.add(Dropout(0.25))\n",
        "model.add(Dense(256, activation='relu', input_shape=INPUT_SHAPE))\n",
        "model.add(Dense(NUM_CLASSES, activation='softmax'))\n",
        "\n",
        "opt = Adam(learning_rate=1e-3)\n",
        "model.compile(loss='categorical_crossentropy', optimizer=opt, metrics=['acc'])"
      ],
      "execution_count": 0,
      "outputs": []
    },
    {
      "cell_type": "code",
      "metadata": {
        "id": "xpk8NAf1HN1b",
        "colab_type": "code",
        "colab": {
          "base_uri": "https://localhost:8080/",
          "height": 425
        },
        "outputId": "2008bbbe-87c8-4e24-bfc2-50afa09861dd"
      },
      "source": [
        "print(f'x_train shape: {x_train.shape}')\n",
        "print(f'y_train shape: {y_train.shape}')\n",
        "model.fit(x_train, y_train, validation_split=0.1, epochs=10)"
      ],
      "execution_count": 57,
      "outputs": [
        {
          "output_type": "stream",
          "text": [
            "x_train shape: (60000, 784)\n",
            "y_train shape: (60000, 10)\n",
            "Train on 54000 samples, validate on 6000 samples\n",
            "Epoch 1/10\n",
            "54000/54000 [==============================] - 5s 97us/sample - loss: 0.2727 - acc: 0.9277 - val_loss: 0.1715 - val_acc: 0.9607\n",
            "Epoch 2/10\n",
            "54000/54000 [==============================] - 5s 93us/sample - loss: 0.2558 - acc: 0.9326 - val_loss: 0.1511 - val_acc: 0.9575\n",
            "Epoch 3/10\n",
            "54000/54000 [==============================] - 5s 93us/sample - loss: 0.2536 - acc: 0.9329 - val_loss: 0.1630 - val_acc: 0.9607\n",
            "Epoch 4/10\n",
            "54000/54000 [==============================] - 5s 92us/sample - loss: 0.2445 - acc: 0.9357 - val_loss: 0.1498 - val_acc: 0.9613\n",
            "Epoch 5/10\n",
            "54000/54000 [==============================] - 5s 94us/sample - loss: 0.2411 - acc: 0.9380 - val_loss: 0.1509 - val_acc: 0.9613\n",
            "Epoch 6/10\n",
            "54000/54000 [==============================] - 5s 91us/sample - loss: 0.2364 - acc: 0.9396 - val_loss: 0.1470 - val_acc: 0.9612\n",
            "Epoch 7/10\n",
            "54000/54000 [==============================] - 5s 92us/sample - loss: 0.2215 - acc: 0.9404 - val_loss: 0.1402 - val_acc: 0.9618\n",
            "Epoch 8/10\n",
            "54000/54000 [==============================] - 5s 92us/sample - loss: 0.2198 - acc: 0.9427 - val_loss: 0.1479 - val_acc: 0.9637\n",
            "Epoch 9/10\n",
            "54000/54000 [==============================] - 5s 92us/sample - loss: 0.2291 - acc: 0.9416 - val_loss: 0.1365 - val_acc: 0.9632\n",
            "Epoch 10/10\n",
            "54000/54000 [==============================] - 5s 91us/sample - loss: 0.2058 - acc: 0.9456 - val_loss: 0.1514 - val_acc: 0.9632\n"
          ],
          "name": "stdout"
        },
        {
          "output_type": "execute_result",
          "data": {
            "text/plain": [
              "<tensorflow.python.keras.callbacks.History at 0x7f8f94a5a748>"
            ]
          },
          "metadata": {
            "tags": []
          },
          "execution_count": 57
        }
      ]
    }
  ]
}