{
  "nbformat": 4,
  "nbformat_minor": 0,
  "metadata": {
    "colab": {
      "name": "cnn_mnist.ipynb",
      "provenance": [],
      "collapsed_sections": [],
      "authorship_tag": "ABX9TyPsWgRC4b0ZvuJh/2xEq9mb",
      "include_colab_link": true
    },
    "kernelspec": {
      "name": "python3",
      "display_name": "Python 3"
    }
  },
  "cells": [
    {
      "cell_type": "markdown",
      "metadata": {
        "id": "view-in-github",
        "colab_type": "text"
      },
      "source": [
        "<a href=\"https://colab.research.google.com/github/RyanElliott10/keras-examples/blob/master/cnn_mnist.ipynb\" target=\"_parent\"><img src=\"https://colab.research.google.com/assets/colab-badge.svg\" alt=\"Open In Colab\"/></a>"
      ]
    },
    {
      "cell_type": "code",
      "metadata": {
        "id": "aW5b5pg_NFn9",
        "colab_type": "code",
        "colab": {}
      },
      "source": [
        "import tensorflow as tf\n",
        "from tensorflow.keras.models import Sequential\n",
        "from tensorflow.keras.layers import Dense, Dropout\n",
        "from tensorflow.keras.layers import Conv2D, Flatten, MaxPooling2D, BatchNormalization\n",
        "from keras.datasets import mnist\n",
        "from keras.utils import to_categorical\n",
        "from tensorflow.keras import backend as K\n",
        "import numpy as np"
      ],
      "execution_count": 0,
      "outputs": []
    },
    {
      "cell_type": "code",
      "metadata": {
        "id": "zwpTngExNVYF",
        "colab_type": "code",
        "colab": {}
      },
      "source": [
        "INPUT_SHAPE = (28, 28, 1)\n",
        "NUM_CLASSES = 10"
      ],
      "execution_count": 0,
      "outputs": []
    },
    {
      "cell_type": "code",
      "metadata": {
        "id": "o8DeKZdmNS6r",
        "colab_type": "code",
        "colab": {}
      },
      "source": [
        "(x_train, y_train), (x_test, y_test) = mnist.load_data()\n",
        "\n",
        "IMG_ROWS = x_train.shape[1]\n",
        "IMG_COLS = x_train.shape[2]"
      ],
      "execution_count": 0,
      "outputs": []
    },
    {
      "cell_type": "code",
      "metadata": {
        "id": "RrH1vwVlNT6n",
        "colab_type": "code",
        "colab": {
          "base_uri": "https://localhost:8080/",
          "height": 51
        },
        "outputId": "0e9e40f6-5279-4cfa-b122-96a4cd3095c6"
      },
      "source": [
        "y_train = to_categorical(y_train)\n",
        "y_test = to_categorical(y_test)\n",
        "\n",
        "if K.image_data_format() == 'channels_first':\n",
        "    x_train = x_train.reshape(x_train.shape[0], 1, IMG_ROWS, img_cols)\n",
        "    x_test = x_test.reshape(x_test.shape[0], 1, IMG_ROWS, img_cols)\n",
        "    INPUT_SHAPE = (1, IMG_ROWS, IMG_COLS)\n",
        "else:\n",
        "    x_train = x_train.reshape(x_train.shape[0], IMG_ROWS, IMG_COLS, 1)\n",
        "    x_test = x_test.reshape(x_test.shape[0], IMG_ROWS, IMG_COLS, 1)\n",
        "    INPUT_SHAPE = (IMG_ROWS, IMG_COLS, 1)\n",
        "\n",
        "x_train = x_train / 255\n",
        "x_test = x_test / 255\n",
        "\n",
        "print(f'x_train shape: {x_train.shape}')\n",
        "print(f'y_train shape: {y_train.shape}')"
      ],
      "execution_count": 30,
      "outputs": [
        {
          "output_type": "stream",
          "text": [
            "x_train shape: (60000, 28, 28, 1)\n",
            "y_train shape: (60000, 10)\n"
          ],
          "name": "stdout"
        }
      ]
    },
    {
      "cell_type": "code",
      "metadata": {
        "id": "n_vZ1Ak3NY-5",
        "colab_type": "code",
        "colab": {}
      },
      "source": [
        "model = Sequential()\n",
        "model.add(Conv2D(32, kernel_size=(3, 3), activation='relu', input_shape=INPUT_SHAPE))\n",
        "model.add(Conv2D(16, kernel_size=(3, 3), activation='relu'))\n",
        "model.add(BatchNormalization())\n",
        "model.add(MaxPooling2D(pool_size=(2, 2)))\n",
        "model.add(Dropout(0.25))\n",
        "\n",
        "model.add(Flatten())\n",
        "model.add(Dense(NUM_CLASSES, activation='softmax'))\n",
        "\n",
        "model.compile(loss='categorical_crossentropy', optimizer='adam', metrics=['acc'])"
      ],
      "execution_count": 0,
      "outputs": []
    },
    {
      "cell_type": "code",
      "metadata": {
        "id": "aF_RV93vOS2f",
        "colab_type": "code",
        "colab": {
          "base_uri": "https://localhost:8080/",
          "height": 391
        },
        "outputId": "57305cd9-9717-4046-de48-ee7578c1f362"
      },
      "source": [
        "model.fit(x_train, y_train, validation_data=(x_test, y_test), epochs=10)"
      ],
      "execution_count": 32,
      "outputs": [
        {
          "output_type": "stream",
          "text": [
            "Train on 60000 samples, validate on 10000 samples\n",
            "Epoch 1/10\n",
            "60000/60000 [==============================] - 102s 2ms/sample - loss: 0.1537 - acc: 0.9532 - val_loss: 0.0663 - val_acc: 0.9790\n",
            "Epoch 2/10\n",
            "60000/60000 [==============================] - 101s 2ms/sample - loss: 0.0687 - acc: 0.9793 - val_loss: 0.0603 - val_acc: 0.9821\n",
            "Epoch 3/10\n",
            "60000/60000 [==============================] - 101s 2ms/sample - loss: 0.0551 - acc: 0.9829 - val_loss: 0.0454 - val_acc: 0.9867\n",
            "Epoch 4/10\n",
            "60000/60000 [==============================] - 101s 2ms/sample - loss: 0.0467 - acc: 0.9854 - val_loss: 0.0451 - val_acc: 0.9851\n",
            "Epoch 5/10\n",
            "60000/60000 [==============================] - 100s 2ms/sample - loss: 0.0423 - acc: 0.9866 - val_loss: 0.0448 - val_acc: 0.9864\n",
            "Epoch 6/10\n",
            "60000/60000 [==============================] - 99s 2ms/sample - loss: 0.0373 - acc: 0.9876 - val_loss: 0.0445 - val_acc: 0.9870\n",
            "Epoch 7/10\n",
            "60000/60000 [==============================] - 99s 2ms/sample - loss: 0.0344 - acc: 0.9888 - val_loss: 0.0456 - val_acc: 0.9862\n",
            "Epoch 8/10\n",
            "60000/60000 [==============================] - 101s 2ms/sample - loss: 0.0302 - acc: 0.9904 - val_loss: 0.0422 - val_acc: 0.9872\n",
            "Epoch 9/10\n",
            "60000/60000 [==============================] - 101s 2ms/sample - loss: 0.0271 - acc: 0.9908 - val_loss: 0.0423 - val_acc: 0.9871\n",
            "Epoch 10/10\n",
            "60000/60000 [==============================] - 101s 2ms/sample - loss: 0.0247 - acc: 0.9915 - val_loss: 0.0389 - val_acc: 0.9891\n"
          ],
          "name": "stdout"
        },
        {
          "output_type": "execute_result",
          "data": {
            "text/plain": [
              "<tensorflow.python.keras.callbacks.History at 0x7fb995f2b630>"
            ]
          },
          "metadata": {
            "tags": []
          },
          "execution_count": 32
        }
      ]
    }
  ]
}