{
  "nbformat": 4,
  "nbformat_minor": 0,
  "metadata": {
    "colab": {
      "name": "lstm_mnist.ipynb",
      "provenance": [],
      "authorship_tag": "ABX9TyOjLPe9cPKnsFkjuCL9y/lZ",
      "include_colab_link": true
    },
    "kernelspec": {
      "name": "python3",
      "display_name": "Python 3"
    }
  },
  "cells": [
    {
      "cell_type": "markdown",
      "metadata": {
        "id": "view-in-github",
        "colab_type": "text"
      },
      "source": [
        "<a href=\"https://colab.research.google.com/github/RyanElliott10/keras-examples/blob/master/lstm_mnist.ipynb\" target=\"_parent\"><img src=\"https://colab.research.google.com/assets/colab-badge.svg\" alt=\"Open In Colab\"/></a>"
      ]
    },
    {
      "cell_type": "code",
      "metadata": {
        "id": "zvaRL2nnK5bC",
        "colab_type": "code",
        "colab": {}
      },
      "source": [
        "import tensorflow as tf\n",
        "from tensorflow.keras.models import Sequential\n",
        "from tensorflow.keras.layers import Dense, Dropout, LSTM, Flatten\n",
        "from keras.datasets import mnist\n",
        "from keras.utils import to_categorical\n",
        "import numpy as np"
      ],
      "execution_count": 0,
      "outputs": []
    },
    {
      "cell_type": "code",
      "metadata": {
        "id": "rBd6zx5HLioj",
        "colab_type": "code",
        "colab": {}
      },
      "source": [
        "INPUT_SHAPE = (28, 28,)\n",
        "NUM_CLASSES = 10"
      ],
      "execution_count": 0,
      "outputs": []
    },
    {
      "cell_type": "code",
      "metadata": {
        "id": "HzJ2S4u3K93v",
        "colab_type": "code",
        "colab": {}
      },
      "source": [
        "(x_train, y_train), (x_test, y_test) = mnist.load_data()"
      ],
      "execution_count": 0,
      "outputs": []
    },
    {
      "cell_type": "code",
      "metadata": {
        "id": "O0UQ_l9bMPxW",
        "colab_type": "code",
        "colab": {
          "base_uri": "https://localhost:8080/",
          "height": 51
        },
        "outputId": "e2bdff2f-1982-40fc-ecf4-31716794dd03"
      },
      "source": [
        "y_train = to_categorical(y_train)\n",
        "y_test = to_categorical(y_test)\n",
        "\n",
        "x_train = x_train / 255\n",
        "x_test = x_test / 255\n",
        "\n",
        "print(f'x_train shape: {x_train.shape}')\n",
        "print(f'y_train shape: {y_train.shape}')"
      ],
      "execution_count": 64,
      "outputs": [
        {
          "output_type": "stream",
          "text": [
            "x_train shape: (60000, 28, 28)\n",
            "y_train shape: (60000, 10)\n"
          ],
          "name": "stdout"
        }
      ]
    },
    {
      "cell_type": "code",
      "metadata": {
        "id": "uYipjd5cLcWN",
        "colab_type": "code",
        "colab": {}
      },
      "source": [
        "model = Sequential()\n",
        "model.add(LSTM(128, activation='tanh', return_sequences=True, input_shape=INPUT_SHAPE))\n",
        "model.add(LSTM(64, activation='tanh'))\n",
        "model.add(Dropout(0.25))\n",
        "model.add(Flatten())\n",
        "model.add(Dense(NUM_CLASSES, activation='softmax'))\n",
        "\n",
        "model.compile(optimizer='rmsprop', loss='categorical_crossentropy', metrics=['acc'])"
      ],
      "execution_count": 0,
      "outputs": []
    },
    {
      "cell_type": "code",
      "metadata": {
        "id": "7WZZEoMZMJBi",
        "colab_type": "code",
        "colab": {
          "base_uri": "https://localhost:8080/",
          "height": 391
        },
        "outputId": "9c8bfb23-b3ca-4050-a2db-8b633f43199c"
      },
      "source": [
        "model.fit(x_train, y_train, validation_data=(x_test, y_test), epochs=10)"
      ],
      "execution_count": 66,
      "outputs": [
        {
          "output_type": "stream",
          "text": [
            "Train on 60000 samples, validate on 10000 samples\n",
            "Epoch 1/10\n",
            "60000/60000 [==============================] - 189s 3ms/sample - loss: 0.3956 - acc: 0.8753 - val_loss: 0.1276 - val_acc: 0.9616\n",
            "Epoch 2/10\n",
            "60000/60000 [==============================] - 188s 3ms/sample - loss: 0.1207 - acc: 0.9660 - val_loss: 0.0724 - val_acc: 0.9785\n",
            "Epoch 3/10\n",
            "60000/60000 [==============================] - 189s 3ms/sample - loss: 0.0767 - acc: 0.9783 - val_loss: 0.0602 - val_acc: 0.9816\n",
            "Epoch 4/10\n",
            "60000/60000 [==============================] - 192s 3ms/sample - loss: 0.0577 - acc: 0.9837 - val_loss: 0.0701 - val_acc: 0.9799\n",
            "Epoch 5/10\n",
            "60000/60000 [==============================] - 184s 3ms/sample - loss: 0.0463 - acc: 0.9872 - val_loss: 0.0536 - val_acc: 0.9844\n",
            "Epoch 6/10\n",
            "60000/60000 [==============================] - 180s 3ms/sample - loss: 0.0388 - acc: 0.9889 - val_loss: 0.0694 - val_acc: 0.9842\n",
            "Epoch 7/10\n",
            "60000/60000 [==============================] - 179s 3ms/sample - loss: 0.0357 - acc: 0.9902 - val_loss: 0.0501 - val_acc: 0.9865\n",
            "Epoch 8/10\n",
            "60000/60000 [==============================] - 179s 3ms/sample - loss: 0.0304 - acc: 0.9919 - val_loss: 0.0476 - val_acc: 0.9877\n",
            "Epoch 9/10\n",
            "60000/60000 [==============================] - 179s 3ms/sample - loss: 0.0260 - acc: 0.9926 - val_loss: 0.0502 - val_acc: 0.9885\n",
            "Epoch 10/10\n",
            "60000/60000 [==============================] - 185s 3ms/sample - loss: 0.0257 - acc: 0.9932 - val_loss: 0.0519 - val_acc: 0.9892\n"
          ],
          "name": "stdout"
        },
        {
          "output_type": "execute_result",
          "data": {
            "text/plain": [
              "<tensorflow.python.keras.callbacks.History at 0x7f351c6b6358>"
            ]
          },
          "metadata": {
            "tags": []
          },
          "execution_count": 66
        }
      ]
    }
  ]
}