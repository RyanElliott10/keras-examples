{
  "nbformat": 4,
  "nbformat_minor": 0,
  "metadata": {
    "colab": {
      "name": "ff_mnist.ipynb",
      "provenance": [],
      "collapsed_sections": [],
      "authorship_tag": "ABX9TyPF8gOh6sK9ABpJoaVF2deN",
      "include_colab_link": true
    },
    "kernelspec": {
      "name": "python3",
      "display_name": "Python 3"
    }
  },
  "cells": [
    {
      "cell_type": "markdown",
      "metadata": {
        "id": "view-in-github",
        "colab_type": "text"
      },
      "source": [
        "<a href=\"https://colab.research.google.com/github/RyanElliott10/keras-examples/blob/master/ff_mnist.ipynb\" target=\"_parent\"><img src=\"https://colab.research.google.com/assets/colab-badge.svg\" alt=\"Open In Colab\"/></a>"
      ]
    },
    {
      "cell_type": "code",
      "metadata": {
        "id": "lpAPrEcbFOcI",
        "colab_type": "code",
        "colab": {}
      },
      "source": [
        "import tensorflow as tf\n",
        "from tensorflow.keras.models import Sequential\n",
        "from tensorflow.keras.layers import Dense, Dropout\n",
        "from tensorflow.keras.optimizers import Adam\n",
        "from keras.datasets import mnist\n",
        "from keras.utils import to_categorical\n",
        "import numpy as np"
      ],
      "execution_count": 0,
      "outputs": []
    },
    {
      "cell_type": "code",
      "metadata": {
        "id": "_a7qLrw7GBp3",
        "colab_type": "code",
        "colab": {}
      },
      "source": [
        "def reshape_to_ff(data):\n",
        "  return data.reshape(data.shape[0], data.shape[1]*data.shape[2])"
      ],
      "execution_count": 0,
      "outputs": []
    },
    {
      "cell_type": "code",
      "metadata": {
        "id": "oNR4XKv5HHvv",
        "colab_type": "code",
        "colab": {}
      },
      "source": [
        "INPUT_SHAPE = (784,)\n",
        "NUM_CLASSES = 10"
      ],
      "execution_count": 0,
      "outputs": []
    },
    {
      "cell_type": "code",
      "metadata": {
        "id": "vtYyM5q2Fnd9",
        "colab_type": "code",
        "colab": {
          "base_uri": "https://localhost:8080/",
          "height": 51
        },
        "outputId": "6898a65d-de4b-425f-ab24-9cdacd1627a7"
      },
      "source": [
        "(x_train, y_train), (x_test, y_test) = mnist.load_data()\n",
        "\n",
        "x_train = reshape_to_ff(x_train)\n",
        "x_test = reshape_to_ff(x_test)\n",
        "\n",
        "y_train = to_categorical(y_train)\n",
        "y_test = to_categorical(y_test)\n",
        "\n",
        "print(f'x_train shape: {x_train.shape}')\n",
        "print(f'y_train shape: {y_train.shape}')"
      ],
      "execution_count": 66,
      "outputs": [
        {
          "output_type": "stream",
          "text": [
            "x_train shape: (60000, 784)\n",
            "y_train shape: (60000, 10)\n"
          ],
          "name": "stdout"
        }
      ]
    },
    {
      "cell_type": "code",
      "metadata": {
        "id": "dpsjUK-rGXy-",
        "colab_type": "code",
        "colab": {}
      },
      "source": [
        "model = Sequential()\n",
        "model.add(Dense(128, activation='relu', input_shape=INPUT_SHAPE))\n",
        "model.add(Dropout(0.25))\n",
        "model.add(Dense(256, activation='relu', input_shape=INPUT_SHAPE))\n",
        "model.add(Dense(NUM_CLASSES, activation='softmax'))\n",
        "\n",
        "opt = Adam(learning_rate=1e-3)\n",
        "model.compile(loss='categorical_crossentropy', optimizer=opt, metrics=['acc'])"
      ],
      "execution_count": 0,
      "outputs": []
    },
    {
      "cell_type": "code",
      "metadata": {
        "id": "xpk8NAf1HN1b",
        "colab_type": "code",
        "colab": {
          "base_uri": "https://localhost:8080/",
          "height": 391
        },
        "outputId": "e2f0b2be-7557-46bf-c26c-8bf68590cb13"
      },
      "source": [
        "model.fit(x_train, y_train, validation_data=(x_test, y_test), epochs=10)"
      ],
      "execution_count": 68,
      "outputs": [
        {
          "output_type": "stream",
          "text": [
            "Train on 60000 samples, validate on 10000 samples\n",
            "Epoch 1/10\n",
            "60000/60000 [==============================] - 6s 96us/sample - loss: 1.6873 - acc: 0.7658 - val_loss: 0.5025 - val_acc: 0.8753\n",
            "Epoch 2/10\n",
            "60000/60000 [==============================] - 6s 93us/sample - loss: 0.6986 - acc: 0.8328 - val_loss: 0.4398 - val_acc: 0.8991\n",
            "Epoch 3/10\n",
            "60000/60000 [==============================] - 6s 92us/sample - loss: 0.6171 - acc: 0.8586 - val_loss: 0.4240 - val_acc: 0.9093\n",
            "Epoch 4/10\n",
            "60000/60000 [==============================] - 6s 92us/sample - loss: 0.4906 - acc: 0.8845 - val_loss: 0.3152 - val_acc: 0.9198\n",
            "Epoch 5/10\n",
            "60000/60000 [==============================] - 5s 91us/sample - loss: 0.3715 - acc: 0.9054 - val_loss: 0.2379 - val_acc: 0.9398\n",
            "Epoch 6/10\n",
            "60000/60000 [==============================] - 5s 92us/sample - loss: 0.3171 - acc: 0.9183 - val_loss: 0.2264 - val_acc: 0.9419\n",
            "Epoch 7/10\n",
            "60000/60000 [==============================] - 6s 93us/sample - loss: 0.2875 - acc: 0.9249 - val_loss: 0.1825 - val_acc: 0.9542\n",
            "Epoch 8/10\n",
            "60000/60000 [==============================] - 6s 93us/sample - loss: 0.2633 - acc: 0.9318 - val_loss: 0.2071 - val_acc: 0.9496\n",
            "Epoch 9/10\n",
            "60000/60000 [==============================] - 6s 92us/sample - loss: 0.2526 - acc: 0.9342 - val_loss: 0.1866 - val_acc: 0.9517\n",
            "Epoch 10/10\n",
            "60000/60000 [==============================] - 6s 93us/sample - loss: 0.2389 - acc: 0.9382 - val_loss: 0.1640 - val_acc: 0.9575\n"
          ],
          "name": "stdout"
        },
        {
          "output_type": "execute_result",
          "data": {
            "text/plain": [
              "<tensorflow.python.keras.callbacks.History at 0x7f8f947fe860>"
            ]
          },
          "metadata": {
            "tags": []
          },
          "execution_count": 68
        }
      ]
    }
  ]
}