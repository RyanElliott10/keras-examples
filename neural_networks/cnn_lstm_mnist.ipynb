{
  "nbformat": 4,
  "nbformat_minor": 0,
  "metadata": {
    "colab": {
      "name": "cnn_lstm_mnist.ipynb",
      "provenance": [],
      "authorship_tag": "ABX9TyM6o2SmLPXPoZSo6zug/jBV",
      "include_colab_link": true
    },
    "kernelspec": {
      "name": "python3",
      "display_name": "Python 3"
    }
  },
  "cells": [
    {
      "cell_type": "markdown",
      "metadata": {
        "id": "view-in-github",
        "colab_type": "text"
      },
      "source": [
        "<a href=\"https://colab.research.google.com/github/RyanElliott10/keras-examples/blob/master/cnn_lstm_mnist.ipynb\" target=\"_parent\"><img src=\"https://colab.research.google.com/assets/colab-badge.svg\" alt=\"Open In Colab\"/></a>"
      ]
    },
    {
      "cell_type": "code",
      "metadata": {
        "id": "dsNFZ8pMRDb1",
        "colab_type": "code",
        "colab": {}
      },
      "source": [
        "import tensorflow as tf\n",
        "from tensorflow.keras.models import Sequential\n",
        "from tensorflow.keras.layers import Dense, Dropout\n",
        "from tensorflow.keras.layers import Conv2D, Flatten, MaxPooling2D, BatchNormalization\n",
        "from tensorflow.keras.layers import LSTM, TimeDistributed\n",
        "from keras.datasets import mnist\n",
        "from keras.utils import to_categorical\n",
        "from tensorflow.keras import backend as K\n",
        "import numpy as np"
      ],
      "execution_count": 0,
      "outputs": []
    },
    {
      "cell_type": "code",
      "metadata": {
        "id": "nHg65tq_RHw-",
        "colab_type": "code",
        "colab": {}
      },
      "source": [
        "INPUT_SHAPE = (28, 28, 1)\n",
        "NUM_CLASSES = 10"
      ],
      "execution_count": 0,
      "outputs": []
    },
    {
      "cell_type": "code",
      "metadata": {
        "id": "lvEeNq3IRJcB",
        "colab_type": "code",
        "colab": {}
      },
      "source": [
        "(x_train, y_train), (x_test, y_test) = mnist.load_data()\n",
        "\n",
        "IMG_ROWS = x_train.shape[1]\n",
        "IMG_COLS = x_train.shape[2]"
      ],
      "execution_count": 0,
      "outputs": []
    },
    {
      "cell_type": "code",
      "metadata": {
        "id": "jLIDwuNxRK7I",
        "colab_type": "code",
        "colab": {
          "base_uri": "https://localhost:8080/",
          "height": 51
        },
        "outputId": "3e64dbe6-1b5e-4432-8af4-3a8925d8d13a"
      },
      "source": [
        "y_train = to_categorical(y_train)\n",
        "y_test = to_categorical(y_test)\n",
        "\n",
        "if K.image_data_format() == 'channels_first':\n",
        "    x_train = x_train.reshape(x_train.shape[0], 1, IMG_ROWS, img_cols)\n",
        "    x_test = x_test.reshape(x_test.shape[0], 1, IMG_ROWS, img_cols)\n",
        "    INPUT_SHAPE = (1, IMG_ROWS, IMG_COLS)\n",
        "else:\n",
        "    x_train = x_train.reshape(x_train.shape[0], IMG_ROWS, IMG_COLS, 1)\n",
        "    x_test = x_test.reshape(x_test.shape[0], IMG_ROWS, IMG_COLS, 1)\n",
        "    INPUT_SHAPE = (IMG_ROWS, IMG_COLS, 1)\n",
        "\n",
        "x_train = x_train / 255\n",
        "x_test = x_test / 255\n",
        "\n",
        "print(f'x_train shape: {x_train.shape}')\n",
        "print(f'y_train shape: {y_train.shape}')"
      ],
      "execution_count": 23,
      "outputs": [
        {
          "output_type": "stream",
          "text": [
            "x_train shape: (60000, 28, 28, 1)\n",
            "y_train shape: (60000, 10)\n"
          ],
          "name": "stdout"
        }
      ]
    },
    {
      "cell_type": "code",
      "metadata": {
        "id": "bXR55kamRMVd",
        "colab_type": "code",
        "colab": {}
      },
      "source": [
        "model = Sequential()\n",
        "model.add(Conv2D(32, kernel_size=(3, 3), activation='relu', input_shape=INPUT_SHAPE))\n",
        "model.add(Conv2D(16, kernel_size=(3, 3), activation='relu'))\n",
        "model.add(BatchNormalization())\n",
        "model.add(MaxPooling2D(pool_size=(2, 2)))\n",
        "\n",
        "model.add(TimeDistributed(Flatten()))\n",
        "model.add(LSTM(128, activation='tanh'))\n",
        "\n",
        "model.add(Flatten())\n",
        "model.add(Dense(NUM_CLASSES, activation='softmax'))\n",
        "\n",
        "model.compile(loss='categorical_crossentropy', optimizer='adadelta', metrics=['acc'])"
      ],
      "execution_count": 0,
      "outputs": []
    },
    {
      "cell_type": "code",
      "metadata": {
        "id": "ajX6eoLyRgUZ",
        "colab_type": "code",
        "colab": {
          "base_uri": "https://localhost:8080/",
          "height": 391
        },
        "outputId": "25f3351f-1ef6-4b9a-cce5-11f46f72d979"
      },
      "source": [
        "model.fit(x_train, y_train, validation_data=(x_test, y_test), epochs=10)"
      ],
      "execution_count": 27,
      "outputs": [
        {
          "output_type": "stream",
          "text": [
            "Train on 60000 samples, validate on 10000 samples\n",
            "Epoch 1/10\n",
            "60000/60000 [==============================] - 165s 3ms/sample - loss: 2.2322 - acc: 0.2052 - val_loss: 2.1480 - val_acc: 0.3012\n",
            "Epoch 2/10\n",
            "60000/60000 [==============================] - 165s 3ms/sample - loss: 2.0814 - acc: 0.3436 - val_loss: 2.0058 - val_acc: 0.3916\n",
            "Epoch 3/10\n",
            "60000/60000 [==============================] - 165s 3ms/sample - loss: 1.9473 - acc: 0.4229 - val_loss: 1.8767 - val_acc: 0.4509\n",
            "Epoch 4/10\n",
            "60000/60000 [==============================] - 163s 3ms/sample - loss: 1.8252 - acc: 0.4786 - val_loss: 1.7594 - val_acc: 0.4988\n",
            "Epoch 5/10\n",
            "60000/60000 [==============================] - 160s 3ms/sample - loss: 1.7127 - acc: 0.5222 - val_loss: 1.6505 - val_acc: 0.5379\n",
            "Epoch 6/10\n",
            "60000/60000 [==============================] - 159s 3ms/sample - loss: 1.6069 - acc: 0.5567 - val_loss: 1.5459 - val_acc: 0.5725\n",
            "Epoch 7/10\n",
            "60000/60000 [==============================] - 159s 3ms/sample - loss: 1.5049 - acc: 0.5868 - val_loss: 1.4450 - val_acc: 0.6029\n",
            "Epoch 8/10\n",
            "60000/60000 [==============================] - 159s 3ms/sample - loss: 1.4063 - acc: 0.6171 - val_loss: 1.3475 - val_acc: 0.6326\n",
            "Epoch 9/10\n",
            "60000/60000 [==============================] - 159s 3ms/sample - loss: 1.3113 - acc: 0.6459 - val_loss: 1.2542 - val_acc: 0.6650\n",
            "Epoch 10/10\n",
            "60000/60000 [==============================] - 164s 3ms/sample - loss: 1.2200 - acc: 0.6737 - val_loss: 1.1640 - val_acc: 0.6934\n"
          ],
          "name": "stdout"
        },
        {
          "output_type": "execute_result",
          "data": {
            "text/plain": [
              "<tensorflow.python.keras.callbacks.History at 0x7f53de777f60>"
            ]
          },
          "metadata": {
            "tags": []
          },
          "execution_count": 27
        }
      ]
    }
  ]
}